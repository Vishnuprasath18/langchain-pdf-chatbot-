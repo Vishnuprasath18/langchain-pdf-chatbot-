{
 "cells": [
  {
   "cell_type": "code",
   "execution_count": 1,
   "id": "b2b5594b-54eb-4fea-8a23-2f01b0fd499e",
   "metadata": {},
   "outputs": [],
   "source": [
    "import os\n",
    "from dotenv import load_dotenv\n",
    "\n",
    "MODEL = \"mistral\""
   ]
  },
  {
   "cell_type": "code",
   "execution_count": null,
   "id": "8fe311fe-73d7-45a0-a3b7-7749a8aec54a",
   "metadata": {},
   "outputs": [],
   "source": [
    "from langchain_community.llms import Ollama\n",
    "from langchain_openai.chat_models import ChatOpenAI\n",
    "from langchain_community.embeddings import OllamaEmbeddings\n",
    "from langchain_openai.embeddings import OpenAIEmbeddings\n",
    "\n",
    "model = Ollama(model=MODEL)\n",
    "embeddings = OllamaEmbeddings(model=MODEL)\n"
   ]
  },
  {
   "cell_type": "code",
   "execution_count": 4,
   "id": "cc9b2c7e-2092-4149-a316-991b80915fd7",
   "metadata": {},
   "outputs": [
    {
     "data": {
      "text/plain": [
       "\" Sure, here's a classic computer science joke for you:\\n\\nWhy don't programmers like nature?\\n\\nBecause it has too many bugs!\""
      ]
     },
     "execution_count": 4,
     "metadata": {},
     "output_type": "execute_result"
    }
   ],
   "source": [
    "from langchain_core.output_parsers import StrOutputParser\n",
    "\n",
    "parser = StrOutputParser()\n",
    "\n",
    "chain = model | parser \n",
    "chain.invoke(\"Tell me a joke\")"
   ]
  },
  {
   "cell_type": "code",
   "execution_count": 5,
   "id": "377e4a53-7c78-4a48-85dc-63bff921691a",
   "metadata": {},
   "outputs": [
    {
     "data": {
      "text/plain": [
       "'\\nAnswer the question based on the context below. If you can\\'t \\nanswer the question, reply \"I don\\'t know\".\\n\\nContext: Here is some context\\n\\nQuestion: Here is a question\\n'"
      ]
     },
     "execution_count": 5,
     "metadata": {},
     "output_type": "execute_result"
    }
   ],
   "source": [
    "from langchain.prompts import PromptTemplate\n",
    "\n",
    "template = \"\"\"\n",
    "Answer the question based on the context below. If you can't \n",
    "answer the question, reply \"I don't know\".\n",
    "\n",
    "Context: {context}\n",
    "\n",
    "Question: {question}\n",
    "\"\"\"\n",
    "\n",
    "prompt = PromptTemplate.from_template(template)\n",
    "prompt.format(context=\"Here is some context\", question=\"Here is a question\")"
   ]
  },
  {
   "cell_type": "code",
   "execution_count": 6,
   "id": "4833f794-931b-4a34-88de-42fd1472b9a2",
   "metadata": {},
   "outputs": [
    {
     "data": {
      "text/plain": [
       "' Santiago'"
      ]
     },
     "execution_count": 6,
     "metadata": {},
     "output_type": "execute_result"
    }
   ],
   "source": [
    "chain = prompt | model | parser\n",
    "\n",
    "chain.invoke({\"context\": \"My parents named me Santiago\", \"question\": \"What's your name'?\"})"
   ]
  },
  {
   "cell_type": "code",
   "execution_count": 7,
   "id": "c4c44fd5-234d-485c-8e1d-7f85460ad2eb",
   "metadata": {},
   "outputs": [],
   "source": [
    "from langchain_community.document_loaders import PyPDFLoader\n",
    "\n",
    "loader = PyPDFLoader(r'C:\\Users\\addrk\\OneDrive\\Documents\\insurance agent dat\\indiafirst-life-insurance-khata-plan-brochure.pdf')\n",
    "pages = loader.load_and_split()\n"
   ]
  },
  {
   "cell_type": "code",
   "execution_count": 8,
   "id": "675bfa3b-16c3-42a7-a4de-cb9ff7bdbac3",
   "metadata": {},
   "outputs": [
    {
     "name": "stderr",
     "output_type": "stream",
     "text": [
      "C:\\Users\\addrk\\AppData\\Local\\Programs\\Python\\Python312\\Lib\\site-packages\\pydantic\\_migration.py:283: UserWarning: `pydantic.error_wrappers:ValidationError` has been moved to `pydantic:ValidationError`.\n",
      "  warnings.warn(f'`{import_path}` has been moved to `{new_location}`.')\n"
     ]
    }
   ],
   "source": [
    "from langchain_community.vectorstores import DocArrayInMemorySearch\n",
    "\n",
    "vectorstore = DocArrayInMemorySearch.from_documents(pages, embedding=embeddings)"
   ]
  },
  {
   "cell_type": "code",
   "execution_count": 9,
   "id": "7183ca28-68ab-4f75-a48d-0ec46be354bb",
   "metadata": {},
   "outputs": [
    {
     "data": {
      "text/plain": [
       "[Document(metadata={'source': 'C:\\\\Users\\\\addrk\\\\OneDrive\\\\Documents\\\\insurance agent dat\\\\indiafirst-life-insurance-khata-plan-brochure.pdf', 'page': 7}, page_content='i.e., fr om the date of issuanc e of the policy or the In the sample illustr ation sho wn abo ve, all pr emiums ar e paid at the beginning of the policy y ear and all the \\npolicy benefits ar e paid at the end of the policy y ear.'),\n",
       " Document(metadata={'source': 'C:\\\\Users\\\\addrk\\\\OneDrive\\\\Documents\\\\insurance agent dat\\\\indiafirst-life-insurance-khata-plan-brochure.pdf', 'page': 10}, page_content='Disclaimer:  IndiaF irst Life Insur ance Compan y Limited, IRDAI Regn No.143, CIN: U66010MH2008PL C1836 79, \\nAddr ess: 12th & 13th ﬂoor , North [C] Wing, Tower 4, Nesc o IT Park, Nesc o Center , Western Expr ess High way, \\nGoregaon (East), Mumbai – 400 063. Toll free No – 1800 2098 700. IndiaF irst Life Insur ance Compan y Limited is only \\nthe name of the Life Insur ance Compan y and IndiaF irst Life “INSURANCE KHA TA” Plan (Micr o-Insur ance Product \\n(UIN 143N05 7V0 2). is only the name of the Lif e Insur ance Product and does not in an y way indicate the qualit y of the \\ncontr act, its futur e prospects, or returns. For more details on risk factor s and terms and conditions, please read the \\nsales brochur e carefully before concluding the sale.“T rade logo displa yed above belongs to our promoter M/s Bank of \\nBaroda and is used b y IndiaF irst Lif e Insur ance Co. Ltd under Lic ense. ”\\nBEW ARE OF SPURIOUS / FRA UD PHONE CALLS \\n• IRDAI is not involved in activities like selling of insur ance policies, announcing bonus or investment of \\npremiums. P ublic r eceiving such phone calls ar e requested to lodg e a polic e complaint.'),\n",
       " Document(metadata={'source': 'C:\\\\Users\\\\addrk\\\\OneDrive\\\\Documents\\\\insurance agent dat\\\\indiafirst-life-insurance-khata-plan-brochure.pdf', 'page': 0}, page_content='INDIAFIRS T LIFE “INSURANCE KHA TA” PLAN\\n(Micr o-Insur ance Product)\\n(A Non Link ed, Non P articipating, Micr o Lif e Insur ance Plan)One Plan T o Truly Enjo y \\nLife’s Certainties'),\n",
       " Document(metadata={'source': 'C:\\\\Users\\\\addrk\\\\OneDrive\\\\Documents\\\\insurance agent dat\\\\indiafirst-life-insurance-khata-plan-brochure.pdf', 'page': 1}, page_content=\"Impor tant Note\\nIndiaFirst Life “INSURANCE KHATA” Plan \\n(Micr o-Insur ance Product) is referred to as the \\npolicy throughout the brochur e.\\nHow will This Brochur e Help You?\\nThis brochur e gives you details of how your \\nPolicy works throughout its lifetime. It's an \\nimpor tant document to refer toTo Help Your Under standing\\nWe've done our best to explain everything as \\nsimply as possible; however you're likely to \\ncome across some terms you're unfamiliar \\nwith. Wher e possible, we've explained these. \\nWe have used simple languag e that is easy to \\nunder stand and belie ve this brochur e is a good \\nplac e to start when considering buying this \\ninsur ance policy .Before You Star t Reading\\n1\")]"
      ]
     },
     "execution_count": 9,
     "metadata": {},
     "output_type": "execute_result"
    }
   ],
   "source": [
    "retriever = vectorstore.as_retriever()\n",
    "retriever.invoke(\"TECHNO TRENDS\")"
   ]
  },
  {
   "cell_type": "code",
   "execution_count": 10,
   "id": "a6d8d1e5-4cfe-442a-a5ab-4c9a944862ec",
   "metadata": {},
   "outputs": [],
   "source": [
    "from operator import itemgetter\n",
    "\n",
    "chain = (\n",
    "    {\n",
    "        \"context\": itemgetter(\"question\") | retriever,\n",
    "        \"question\": itemgetter(\"question\"),\n",
    "    }\n",
    "    | prompt\n",
    "    | model\n",
    "    | parser\n",
    ")"
   ]
  },
  {
   "cell_type": "code",
   "execution_count": 11,
   "id": "f9383735-74c6-4d81-a505-3fff8dc92be1",
   "metadata": {},
   "outputs": [
    {
     "name": "stdout",
     "output_type": "stream",
     "text": [
      "Question: Genrate frequently asked questions based on the document\n",
      "Answer: 1. Q: What is IndiaFirst Life Insurance Company Limited's IRDAI registration number?\n",
      "     A: IndiaFirst Life Insurance Company Limited's IRDAI registration number is 143.\n",
      "\n",
      "2. Q: Where is the head office of IndiaFirst Life Insurance Company Limited located?\n",
      "   A: The head office of IndiaFirst Life Insurance Company Limited is at 12th & 13th floor, North [C] Wing, Tower 4, Nesc o IT Park, Nesc o Center, Western Express Highway, Goregaon (East), Mumbai – 400 063.\n",
      "\n",
      "3. Q: How can I contact IndiaFirst Life Insurance Company Limited?\n",
      "   A: You can contact IndiaFirst Life Insurance Company Limited toll-free at 1800 2098 700.\n",
      "\n",
      "4. Q: What is the name of the insurance product mentioned in the document?\n",
      "   A: The insurance product mentioned in the document is \"IndiaFirst Life Insurance Company Limited's INSURANCE KHA TA\" Plan (Micr o-Insur ance Product (UIN 143N05 7V0 2)).\n",
      "\n",
      "5. Q: What should I do if I receive spurious or fraudulent phone calls?\n",
      "   A: If you receive spurious or fraudulent phone calls, you are requested to lodge a police complaint.\n",
      "\n",
      "6. Q: Does IndiaFirst Life Insurance Company Limited sell insurance policies or announce bonuses?\n",
      "   A: No, IRDAI is not involved in activities like selling of insurance policies or announcing bonus. Public receiving such phone calls should lodg e a polic e complaint.\n",
      "\n",
      "7. Q: Where can I find more details on risk factors and terms and conditions for IndiaFirst Life Insurance Company Limited's products?\n",
      "   A: For more details on risk factor s and terms and conditions, please read the sales brochur e carefully before concluding the sale.\n",
      "\n"
     ]
    }
   ],
   "source": [
    "questions = [\n",
    "    \"Genrate frequently asked questions based on the document\",\n",
    "]\n",
    "\n",
    "for question in questions:\n",
    "    print(f\"Question: {question}\")\n",
    "    print(f\"Answer: {chain.invoke({'question': question})}\")\n",
    "    print()"
   ]
  },
  {
   "cell_type": "code",
   "execution_count": null,
   "id": "4faef4fd-9534-4bd8-94ff-001dd931d870",
   "metadata": {},
   "outputs": [],
   "source": [
    "chain.batch([{\"question\": q} for q in questions])"
   ]
  },
  {
   "cell_type": "code",
   "execution_count": null,
   "id": "f5ca3a09-fa0a-47b8-b592-4052dfca91f8",
   "metadata": {},
   "outputs": [],
   "source": [
    "for s in chain.stream({\"question\": \"some more\"}):\n",
    "    print(s, end=\"\", flush=True)"
   ]
  },
  {
   "cell_type": "code",
   "execution_count": null,
   "id": "ccc1a49d-af19-4675-836b-72b28b5d0dbd",
   "metadata": {},
   "outputs": [],
   "source": []
  }
 ],
 "metadata": {
  "kernelspec": {
   "display_name": "Python 3 (ipykernel)",
   "language": "python",
   "name": "python3"
  },
  "language_info": {
   "codemirror_mode": {
    "name": "ipython",
    "version": 3
   },
   "file_extension": ".py",
   "mimetype": "text/x-python",
   "name": "python",
   "nbconvert_exporter": "python",
   "pygments_lexer": "ipython3",
   "version": "3.12.5"
  }
 },
 "nbformat": 4,
 "nbformat_minor": 5
}
